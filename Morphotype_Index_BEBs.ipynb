{
 "cells": [
  {
   "cell_type": "code",
   "execution_count": 1,
   "id": "1c957009",
   "metadata": {},
   "outputs": [],
   "source": [
    "#Important libraries\n",
    "import pandas as pd\n",
    "import numpy as np\n",
    "%matplotlib inline\n",
    "import matplotlib.pyplot as plt\n",
    "import matplotlib.dates as mdates\n",
    "import math\n",
    "import sys\n",
    "from matplotlib.pyplot import figure\n",
    "from datetime import datetime\n",
    "from datetime import timedelta\n",
    "from scipy import signal\n",
    "from scipy.interpolate import interp1d\n",
    "import os\n",
    "import math"
   ]
  },
  {
   "cell_type": "markdown",
   "id": "f51bc9f7",
   "metadata": {},
   "source": [
    "Read Beach Profile datasets: Cross-shore beach profile data (Distance Vs Elevation)"
   ]
  },
  {
   "cell_type": "code",
   "execution_count": 4,
   "id": "87256f56",
   "metadata": {},
   "outputs": [],
   "source": [
    "# Sample Datasets for PMI calculation (yarra Beach, Gamay bay, Sydney, Australai)\n",
    "yarra=pd.read_csv(r'data.csv')"
   ]
  },
  {
   "cell_type": "code",
   "execution_count": 5,
   "id": "df09585d-dae8-41dc-a674-c051952bc467",
   "metadata": {},
   "outputs": [
    {
     "data": {
      "text/html": [
       "<div>\n",
       "<style scoped>\n",
       "    .dataframe tbody tr th:only-of-type {\n",
       "        vertical-align: middle;\n",
       "    }\n",
       "\n",
       "    .dataframe tbody tr th {\n",
       "        vertical-align: top;\n",
       "    }\n",
       "\n",
       "    .dataframe thead th {\n",
       "        text-align: right;\n",
       "    }\n",
       "</style>\n",
       "<table border=\"1\" class=\"dataframe\">\n",
       "  <thead>\n",
       "    <tr style=\"text-align: right;\">\n",
       "      <th></th>\n",
       "      <th>Beach</th>\n",
       "      <th>Date</th>\n",
       "      <th>ProfileID</th>\n",
       "      <th>Distance</th>\n",
       "      <th>Elevation</th>\n",
       "      <th>Method</th>\n",
       "    </tr>\n",
       "  </thead>\n",
       "  <tbody>\n",
       "    <tr>\n",
       "      <th>0</th>\n",
       "      <td>Yarra_Bay</td>\n",
       "      <td>12/05/2017</td>\n",
       "      <td>P4</td>\n",
       "      <td>0</td>\n",
       "      <td>3.571000</td>\n",
       "      <td>RTK</td>\n",
       "    </tr>\n",
       "    <tr>\n",
       "      <th>1</th>\n",
       "      <td>Yarra_Bay</td>\n",
       "      <td>12/05/2017</td>\n",
       "      <td>P4</td>\n",
       "      <td>1</td>\n",
       "      <td>3.381851</td>\n",
       "      <td>RTK</td>\n",
       "    </tr>\n",
       "    <tr>\n",
       "      <th>2</th>\n",
       "      <td>Yarra_Bay</td>\n",
       "      <td>12/05/2017</td>\n",
       "      <td>P4</td>\n",
       "      <td>2</td>\n",
       "      <td>3.181205</td>\n",
       "      <td>RTK</td>\n",
       "    </tr>\n",
       "    <tr>\n",
       "      <th>3</th>\n",
       "      <td>Yarra_Bay</td>\n",
       "      <td>12/05/2017</td>\n",
       "      <td>P4</td>\n",
       "      <td>3</td>\n",
       "      <td>3.011943</td>\n",
       "      <td>RTK</td>\n",
       "    </tr>\n",
       "    <tr>\n",
       "      <th>4</th>\n",
       "      <td>Yarra_Bay</td>\n",
       "      <td>12/05/2017</td>\n",
       "      <td>P4</td>\n",
       "      <td>4</td>\n",
       "      <td>2.846015</td>\n",
       "      <td>RTK</td>\n",
       "    </tr>\n",
       "  </tbody>\n",
       "</table>\n",
       "</div>"
      ],
      "text/plain": [
       "       Beach        Date ProfileID  Distance  Elevation Method\n",
       "0  Yarra_Bay  12/05/2017        P4         0   3.571000    RTK\n",
       "1  Yarra_Bay  12/05/2017        P4         1   3.381851    RTK\n",
       "2  Yarra_Bay  12/05/2017        P4         2   3.181205    RTK\n",
       "3  Yarra_Bay  12/05/2017        P4         3   3.011943    RTK\n",
       "4  Yarra_Bay  12/05/2017        P4         4   2.846015    RTK"
      ]
     },
     "execution_count": 5,
     "metadata": {},
     "output_type": "execute_result"
    }
   ],
   "source": [
    "yarra.head()"
   ]
  },
  {
   "cell_type": "code",
   "execution_count": 8,
   "id": "024ddc36",
   "metadata": {},
   "outputs": [
    {
     "data": {
      "text/plain": [
       "array(['12/05/2017'], dtype=object)"
      ]
     },
     "execution_count": 8,
     "metadata": {},
     "output_type": "execute_result"
    }
   ],
   "source": [
    "#Extract dates for the individual survey that will assist to identify the morphotpes individually\n",
    "def check_dates(location):\n",
    "    df_filtered = location[location['ProfileID']==\"P4\"]\n",
    "    data = df_filtered[[\"Distance\", \"Elevation\",\"Date\" ]]\n",
    "    dates=pd.to_datetime(data['Date'])\n",
    "    dates = data.Date.unique()\n",
    "    return dates\n",
    "check_dates(yarra)"
   ]
  },
  {
   "cell_type": "code",
   "execution_count": 9,
   "id": "b80fcb06",
   "metadata": {},
   "outputs": [
    {
     "data": {
      "image/png": "[encoded data removed]",
      "text/plain": [
       "<Figure size 640x480 with 1 Axes>"
      ]
     },
     "metadata": {},
     "output_type": "display_data"
    },
    {
     "name": "stdout",
     "output_type": "stream",
     "text": [
      "Slope of the Profile: 4.96\n",
      "Concavity: -4.56 (min: -0.38 max: 0.0 ) Profile-percentage: 58.54 Mean Elevation: 2.38\n",
      "Concavity: 2.74 (min: 0.03 max: 0.26 ) Profile-percentage: 41.46 Mean Elevation: 0.96\n"
     ]
    },
    {
     "data": {
      "image/png": "[encoded data removed]",
      "text/plain": [
       "<Figure size 640x480 with 1 Axes>"
      ]
     },
     "metadata": {},
     "output_type": "display_data"
    }
   ],
   "source": [
    "#Function to determine concavity, segmentwise profile percentage, slope and mean elevation\n",
    "def extract_profile(dataframe,profile, date):\n",
    "    group_profile=dataframe[\"ProfileID\"].unique()\n",
    "    group_dates=dataframe[\"ProfileID\"].unique()\n",
    "    #Extract Single profile\n",
    "    single_profile=dataframe[dataframe['ProfileID']==profile]\n",
    "    single_date = single_profile[single_profile['Date']==date]\n",
    "    mask = (single_date['Elevation'] >= 0) & (single_date['Elevation'] <= 10)\n",
    "    extent = single_date.loc[mask]\n",
    "    extent.plot(x='Distance', y='Elevation')\n",
    "\n",
    "    #interval vulaes to get the same number of y values for x values\n",
    "    z=extent[\"Distance\"].iloc[-1]+1\n",
    "    xi=np.linspace(0.,1.,z)\n",
    "    xm=np.flip(xi)\n",
    "    #values fo calculation\n",
    "    a=extent.iloc[:,3].iat[0]\n",
    "    b=extent.iloc[:,3].iat[-1]\n",
    "    ay=extent.iloc[:,4].iat[0]\n",
    "    by=extent.iloc[:,4].iat[-1]\n",
    "\n",
    "    #x distance on the imaginary line\n",
    "    rff=[]\n",
    "    for i in range(len(xm)):\n",
    "        rf = xm[i]*a+(1-xm[i])*b\n",
    "        rff.append(rf)\n",
    "\n",
    "    #elevation on imaginary line from bottom\n",
    "    xff=[]\n",
    "    for i in range(len(xm)):\n",
    "        xf = xm[i]*ay+(1-xm[i])*by\n",
    "        xff.append(xf)\n",
    "\n",
    "    #Convert dataframe column to numpy array to plot the imaginary line and inflection points\n",
    "    xs = extent[\"Distance\"].to_numpy()\n",
    "    y1=xff\n",
    "    y2=extent[\"Elevation\"].to_numpy()\n",
    "    plt.plot(xs,y1)\n",
    "    plt.plot(xs,y2)\n",
    "\n",
    "    #Inflection points and plot\n",
    "    idx=np.argwhere(np.diff(np.sign(y1 - y2 )) != 0).reshape(-1) + 0\n",
    "    idf=idx+1\n",
    "    idf[0]=0\n",
    "    for i in range(len(idx)):\n",
    "        plt.plot((xs[idx[i]]+xs[idx[i]+1])/2.,(y1[idx[i]]+y1[idx[i]+1])/2., 'ro')\n",
    "    plt.show()\n",
    "\n",
    "    #Conversion of numpy array to list\n",
    "    concavity=[]\n",
    "    t = xm.tolist()\n",
    "    for i in range(len(t)):\n",
    "        a=extent.iloc[:,3].iat[0]\n",
    "        b=extent.iloc[:,3].iat[-1]\n",
    "        ay=extent.iloc[:,4].iat[0]\n",
    "        by=extent.iloc[:,4].iat[-1]\n",
    "        xl = t[i]*a+(1-t[i])*b\n",
    "        ycu=np.interp(xl, extent[\"Distance\"],extent[\"Elevation\"])\n",
    "        yl = t[i]*ay+(1-t[i])*by\n",
    "        yc = (ycu-yl)\n",
    "        yc=round(yc, 2)\n",
    "        concavity.append(yc)\n",
    "        plt.plot(concavity)\n",
    "        plt.ylim([-1, 1])\n",
    "\n",
    "    #Slope of the profile and segmentwise concavity, percentage, and Elevation\n",
    "\n",
    "    #Slope of the profile\n",
    "    y2 = np.max(extent['Elevation'])\n",
    "    y1 = np.min(extent['Elevation'])\n",
    "    x2 = np.max(extent['Distance'])\n",
    "    x1 = np.min(extent['Distance'])\n",
    "    gradient= ((y2-y1)/(x2-x1))\n",
    "    gradient = abs(gradient)\n",
    "    gradient_deg = np.rad2deg(math.atan(gradient))\n",
    "    gradient = round(gradient, 2)\n",
    "    gradient_deg = round(gradient_deg, 2)\n",
    "    print(\"Slope of the Profile:\",gradient_deg)\n",
    "\n",
    "    #segmentwise concavity, percentage, and Elevation\n",
    "    for h in range(len(idf)-1):\n",
    "        #Concavity\n",
    "        c=concavity[idf[h]:idf[h+1]]\n",
    "        mx=max(c)\n",
    "        mn=min(c)\n",
    "        s_sum = math.fsum(c)\n",
    "        s_sum=round(s_sum, 2)\n",
    "        #Profile Percentage\n",
    "        quotient = (idf[h+1]-idf[h]) /extent[\"Distance\"].iloc[-1] \n",
    "        percent = quotient * 100\n",
    "        percent=round(percent, 2)\n",
    "        #segmentwise elevation\n",
    "        elev_seg=extent['Elevation'].iloc[idf[h]:idf[h+1]]\n",
    "        elev_mean_seg=elev_seg.mean()\n",
    "        elev_mean_seg=round(elev_mean_seg, 2)\n",
    "\n",
    "        print(\"Concavity:\",s_sum,\"(min:\",mn,\"max:\",mx,\")\", \"Profile-percentage:\",percent, \"Mean Elevation:\",elev_mean_seg)\n",
    "\n",
    "extract_profile(yarra,\"P4\",\"12/05/2017\")"
   ]
  },
  {
   "cell_type": "markdown",
   "id": "efcaed69",
   "metadata": {},
   "source": [
    "# Morphotypes Index Calculation"
   ]
  },
  {
   "cell_type": "code",
   "execution_count": 10,
   "id": "04b3530c",
   "metadata": {},
   "outputs": [],
   "source": [
    "#Equation, Parameters and Factors\n",
    "\n",
    "Sf1=-1\n",
    "n=2\n",
    "Sf2=1\n",
    "Nf=1\n",
    "#S=Ps*Ef (segment)\n",
    "#Sg1=Ps1*Ef2 (segment 1)\n",
    "#Sg2=Ps1*Ef2 (segment 2)\n",
    "#Sg3=Ps1*Ef2 (segment 3)\n",
    "Sg1=0.58*1\n",
    "Sg2=0.42*1\n",
    "Sg3=0\n",
    "PMI=((Sf1*(Sg1+Sg2+Sg3))/(n*Sf2))*Nf\n"
   ]
  },
  {
   "cell_type": "markdown",
   "id": "11d2eeac",
   "metadata": {},
   "source": [
    "Elevation Factor (Ef) = 0, 1 (Elevation less than 0.1m=0, Elevation greater than 0.1m =1)\n",
    "\n",
    "Normalization Factor (Nf) = 1, 1.90 (1.90 when a profile has three segments, a profile with 60-89% Convex portion, and a profile with 60-89% Concave portion), (1 for the remaining cases)\n",
    "\n",
    "Sign Factor-1 (Sf1) =1, -1 (1 when the percentage of concave segments <40%), (-1 when the percentage of concave segments >40%)\n",
    "\n",
    "Sign Factor-2 (Sf2) =1, -1 (-1 when only the first segment is Convex and the second segment is Concave in two segments profile), (1 for the remaining cases)."
   ]
  },
  {
   "cell_type": "code",
   "execution_count": 11,
   "id": "9dafb76b",
   "metadata": {},
   "outputs": [
    {
     "data": {
      "text/plain": [
       "-0.5"
      ]
     },
     "execution_count": 11,
     "metadata": {},
     "output_type": "execute_result"
    }
   ],
   "source": [
    "#Equation (PMI)\n",
    "PMI=((Sf1*(Sg1+Sg2+Sg3))/(n*Sf2))*Nf\n",
    "PMI"
   ]
  },
  {
   "cell_type": "code",
   "execution_count": 12,
   "id": "28ab8918",
   "metadata": {},
   "outputs": [],
   "source": [
    "def profile_morphotype(PMI):\n",
    "    if PMI == -1.00:\n",
    "        return \"Concave\"\n",
    "    elif -0.950 <= PMI <= -0.570:\n",
    "        return \"Mostly Concave\"\n",
    "    elif PMI == -0.500:\n",
    "        return \"Concave-Convex\"\n",
    "    elif -0.295 <= PMI <= -0.205:\n",
    "        return \"Linear concave\"\n",
    "    elif PMI == 0.00:\n",
    "        return \"Linear\"\n",
    "    elif 0.055 <= PMI <= 0.200:\n",
    "        return \"Mostly Linear\"\n",
    "    elif 0.205 <= PMI <= 0.295:\n",
    "        return \"Linear Convex\"\n",
    "    elif PMI == 0.500:\n",
    "        return \"Convex-Concave\"\n",
    "    elif 0.570 <= PMI <= 0.950:\n",
    "        return \"Mostly Convex\"\n",
    "    elif PMI == 1.00:\n",
    "        return \"Convex\"\n",
    "    else:\n",
    "        return \"Combination\""
   ]
  },
  {
   "cell_type": "code",
   "execution_count": 13,
   "id": "312c87a4",
   "metadata": {},
   "outputs": [
    {
     "data": {
      "text/plain": [
       "'Concave-Convex'"
      ]
     },
     "execution_count": 13,
     "metadata": {},
     "output_type": "execute_result"
    }
   ],
   "source": [
    "profile_morphotype(PMI)"
   ]
  }
 ],
 "metadata": {
  "kernelspec": {
   "display_name": "Python 3 (ipykernel)",
   "language": "python",
   "name": "python3"
  },
  "language_info": {
   "codemirror_mode": {
    "name": "ipython",
    "version": 3
   },
   "file_extension": ".py",
   "mimetype": "text/x-python",
   "name": "python",
   "nbconvert_exporter": "python",
   "pygments_lexer": "ipython3",
   "version": "3.9.18"
  }
 },
 "nbformat": 4,
 "nbformat_minor": 5
}
