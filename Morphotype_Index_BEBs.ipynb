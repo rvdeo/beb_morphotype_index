{
 "cells": [
  {
   "cell_type": "code",
   "execution_count": 54,
   "id": "1c957009",
   "metadata": {},
   "outputs": [],
   "source": [
    "#Important libraries\n",
    "import pandas as pd\n",
    "import numpy as np\n",
    "%matplotlib inline\n",
    "import matplotlib.pyplot as plt\n",
    "import matplotlib.dates as mdates\n",
    "import math\n",
    "import sys\n",
    "from matplotlib.pyplot import figure\n",
    "from datetime import datetime\n",
    "from datetime import timedelta\n",
    "from scipy import signal\n",
    "from scipy.interpolate import interp1d\n",
    "import os\n",
    "import math"
   ]
  },
  {
   "cell_type": "markdown",
   "id": "f51bc9f7",
   "metadata": {},
   "source": [
    "Read Beach Profile datasets: Cross-shore beach profile data (Distance Vs Elevation)"
   ]
  },
  {
   "cell_type": "code",
   "execution_count": 55,
   "id": "87256f56",
   "metadata": {},
   "outputs": [],
   "source": [
    "# Sample Datasets for PMI calculation (yarra Beach, Gamay bay, Sydney, Australai)\n",
    "yarra=pd.read_csv(r'C:\\Users\\mgaz4900\\OneDrive - The University of Sydney (Staff)\\Beach Profile Data\\Sydney_BEBS\\Yaara_2016-2022.csv')"
   ]
  },
  {
   "cell_type": "code",
   "execution_count": 56,
   "id": "024ddc36",
   "metadata": {},
   "outputs": [
    {
     "data": {
      "text/plain": [
       "array(['13/05/2016', '7/06/2016', '27/07/2016', '12/09/2016',\n",
       "       '14/10/2016', '27/10/2016', '20/12/2016', '12/01/2017',\n",
       "       '23/02/2017', '7/04/2017', '12/05/2017', '6/07/2017', '25/08/2017',\n",
       "       '3/10/2017', '13/11/2017', '15/12/2017', '12/01/2018',\n",
       "       '13/02/2018', '19/04/2018', '28/05/2018', '21/06/2018',\n",
       "       '25/07/2018', '23/08/2018', '30/05/2019', '28/06/2019',\n",
       "       '30/07/2019', '28/08/2019', '27/11/2019', '13/02/2020',\n",
       "       '24/07/2020', '5/08/2020', '26/03/2021', '28/05/2021',\n",
       "       '20/09/2022'], dtype=object)"
      ]
     },
     "execution_count": 56,
     "metadata": {},
     "output_type": "execute_result"
    }
   ],
   "source": [
    "#Extract dates for the individual survey that will assist to identify the morphotpes individually\n",
    "def check_dates(location):\n",
    "    df_filtered = location[location['ProfileID']==\"P1\"]\n",
    "    data = df_filtered[[\"Distance\", \"Elevation\",\"Date\" ]]\n",
    "    dates=pd.to_datetime(data['Date'],infer_datetime_format=True)\n",
    "    dates = data.Date.unique()\n",
    "    return dates\n",
    "check_dates(yarra)"
   ]
  },
  {
   "cell_type": "code",
   "execution_count": 57,
   "id": "b80fcb06",
   "metadata": {},
   "outputs": [
    {
     "data": {
      "image/png": "[encoded data removed]",
      "text/plain": [
       "<Figure size 432x288 with 1 Axes>"
      ]
     },
     "metadata": {
      "needs_background": "light"
     },
     "output_type": "display_data"
    },
    {
     "name": "stdout",
     "output_type": "stream",
     "text": [
      "Slope of the Profile: 4.96\n",
      "Concavity: -4.56 (min: -0.38 max: 0.0 ) Profile-percentage: 58.54 Mean Elevation: 2.38\n",
      "Concavity: 2.74 (min: 0.03 max: 0.26 ) Profile-percentage: 41.46 Mean Elevation: 0.96\n"
     ]
    },
    {
     "data": {
      "image/png": "[encoded data removed]",
      "text/plain": [
       "<Figure size 432x288 with 1 Axes>"
      ]
     },
     "metadata": {
      "needs_background": "light"
     },
     "output_type": "display_data"
    }
   ],
   "source": [
    "#Function to determine concavity, segmentwise profile percentage, slope and mean elevation\n",
    "def extract_profile(dataframe,profile, date):\n",
    "    group_profile=dataframe[\"ProfileID\"].unique()\n",
    "    group_dates=dataframe[\"ProfileID\"].unique()\n",
    "    #Extract Single profile\n",
    "    single_profile=dataframe[dataframe['ProfileID']==profile]\n",
    "    single_date = single_profile[single_profile['Date']==date]\n",
    "    mask = (single_date['Elevation'] >= 0) & (single_date['Elevation'] <= 10)\n",
    "    extent = single_date.loc[mask]\n",
    "    extent.plot(x='Distance', y='Elevation')\n",
    "\n",
    "    #interval vulaes to get the same number of y values for x values\n",
    "    z=extent[\"Distance\"].iloc[-1]+1\n",
    "    xi=np.linspace(0.,1.,z)\n",
    "    xm=np.flip(xi)\n",
    "    #values fo calculation\n",
    "    a=extent.iloc[:,3].iat[0]\n",
    "    b=extent.iloc[:,3].iat[-1]\n",
    "    ay=extent.iloc[:,4].iat[0]\n",
    "    by=extent.iloc[:,4].iat[-1]\n",
    "\n",
    "    #x distance on the imaginary line\n",
    "    rff=[]\n",
    "    for i in range(len(xm)):\n",
    "        rf = xm[i]*a+(1-xm[i])*b\n",
    "        rff.append(rf)\n",
    "\n",
    "    #elevation on imaginary line from bottom\n",
    "    xff=[]\n",
    "    for i in range(len(xm)):\n",
    "        xf = xm[i]*ay+(1-xm[i])*by\n",
    "        xff.append(xf)\n",
    "\n",
    "    #Convert dataframe column to numpy array to plot the imaginary line and inflection points\n",
    "    xs = extent[\"Distance\"].to_numpy()\n",
    "    y1=xff\n",
    "    y2=extent[\"Elevation\"].to_numpy()\n",
    "    plt.plot(xs,y1)\n",
    "    plt.plot(xs,y2)\n",
    "\n",
    "    #Inflection points and plot\n",
    "    idx=np.argwhere(np.diff(np.sign(y1 - y2 )) != 0).reshape(-1) + 0\n",
    "    idf=idx+1\n",
    "    idf[0]=0\n",
    "    for i in range(len(idx)):\n",
    "        plt.plot((xs[idx[i]]+xs[idx[i]+1])/2.,(y1[idx[i]]+y1[idx[i]+1])/2., 'ro')\n",
    "    plt.show()\n",
    "\n",
    "    #Conversion of numpy array to list\n",
    "    concavity=[]\n",
    "    t = xm.tolist()\n",
    "    for i in range(len(t)):\n",
    "        a=extent.iloc[:,3].iat[0]\n",
    "        b=extent.iloc[:,3].iat[-1]\n",
    "        ay=extent.iloc[:,4].iat[0]\n",
    "        by=extent.iloc[:,4].iat[-1]\n",
    "        xl = t[i]*a+(1-t[i])*b\n",
    "        ycu=np.interp(xl, extent[\"Distance\"],extent[\"Elevation\"])\n",
    "        yl = t[i]*ay+(1-t[i])*by\n",
    "        yc = (ycu-yl)\n",
    "        yc=round(yc, 2)\n",
    "        concavity.append(yc)\n",
    "        plt.plot(concavity)\n",
    "        plt.ylim([-1, 1])\n",
    "\n",
    "    #Slope of the profile and segmentwise concavity, percentage, and Elevation\n",
    "\n",
    "    #Slope of the profile\n",
    "    y2 = np.max(extent['Elevation'])\n",
    "    y1 = np.min(extent['Elevation'])\n",
    "    x2 = np.max(extent['Distance'])\n",
    "    x1 = np.min(extent['Distance'])\n",
    "    gradient= ((y2-y1)/(x2-x1))\n",
    "    gradient = abs(gradient)\n",
    "    gradient_deg = np.rad2deg(math.atan(gradient))\n",
    "    gradient = round(gradient, 2)\n",
    "    gradient_deg = round(gradient_deg, 2)\n",
    "    print(\"Slope of the Profile:\",gradient_deg)\n",
    "\n",
    "    #segmentwise concavity, percentage, and Elevation\n",
    "    for h in range(len(idf)-1):\n",
    "        #Concavity\n",
    "        c=concavity[idf[h]:idf[h+1]]\n",
    "        mx=max(c)\n",
    "        mn=min(c)\n",
    "        s_sum = math.fsum(c)\n",
    "        s_sum=round(s_sum, 2)\n",
    "        #Profile Percentage\n",
    "        quotient = (idf[h+1]-idf[h]) /extent[\"Distance\"].iloc[-1] \n",
    "        percent = quotient * 100\n",
    "        percent=round(percent, 2)\n",
    "        #segmentwise elevation\n",
    "        elev_seg=extent['Elevation'].iloc[idf[h]:idf[h+1]]\n",
    "        elev_mean_seg=elev_seg.mean()\n",
    "        elev_mean_seg=round(elev_mean_seg, 2)\n",
    "\n",
    "        print(\"Concavity:\",s_sum,\"(min:\",mn,\"max:\",mx,\")\", \"Profile-percentage:\",percent, \"Mean Elevation:\",elev_mean_seg)\n",
    "\n",
    "extract_profile(yarra,\"P4\",\"12/05/2017\")"
   ]
  },
  {
   "cell_type": "markdown",
   "id": "efcaed69",
   "metadata": {},
   "source": [
    "Morphotypes Index Calculation"
   ]
  },
  {
   "cell_type": "code",
   "execution_count": 58,
   "id": "04b3530c",
   "metadata": {},
   "outputs": [],
   "source": [
    "#Equation, Parameters and Factors\n",
    "\n",
    "Sf1=-1\n",
    "n=2\n",
    "Sf2=1\n",
    "Nf=1\n",
    "#S=Ps*Ef (segment)\n",
    "#Sg1=Ps1*Ef2 (segment 1)\n",
    "#Sg2=Ps1*Ef2 (segment 2)\n",
    "#Sg3=Ps1*Ef2 (segment 3)\n",
    "Sg1=0.58*1\n",
    "Sg2=0.42*1\n",
    "Sg3=0\n",
    "PMI=((Sf1*(Sg1+Sg2+Sg3))/(n*Sf2))*Nf\n"
   ]
  },
  {
   "cell_type": "markdown",
   "id": "11d2eeac",
   "metadata": {},
   "source": [
    "Elevation Factor (Ef) = 0, 1 (Elevation less than 0.1m=0, Elevation greater than 0.1m =1)\n",
    "\n",
    "Normalization Factor (Nf) = 1, 1.90 (1.90 when a profile has three segments, a profile with 60-89% Convex portion, and a profile with 60-89% Concave portion), (1 for the remaining cases)\n",
    "\n",
    "Sign Factor-1 (Sf1) =1, -1 (1 when the percentage of concave segments <40%), (-1 when the percentage of concave segments >40%)\n",
    "\n",
    "Sign Factor-2 (Sf2) =1, -1 (-1 when only the first segment is Convex and the second segment is Concave in two segments profile), (1 for the remaining cases)."
   ]
  },
  {
   "cell_type": "code",
   "execution_count": 59,
   "id": "9dafb76b",
   "metadata": {},
   "outputs": [
    {
     "data": {
      "text/plain": [
       "-0.5"
      ]
     },
     "execution_count": 59,
     "metadata": {},
     "output_type": "execute_result"
    }
   ],
   "source": [
    "#Equation (PMI)\n",
    "PMI=((Sf1*(Sg1+Sg2+Sg3))/(n*Sf2))*Nf\n",
    "PMI"
   ]
  },
  {
   "cell_type": "code",
   "execution_count": 60,
   "id": "28ab8918",
   "metadata": {},
   "outputs": [],
   "source": [
    "def profile_morphotype(PMI):\n",
    "    if PMI == -1.00:\n",
    "        return \"Concave\"\n",
    "    elif -0.950 <= PMI <= -0.570:\n",
    "        return \"Mostly Concave\"\n",
    "    elif PMI == -0.500:\n",
    "        return \"Concave-Convex\"\n",
    "    elif -0.295 <= PMI <= -0.205:\n",
    "        return \"Linear concave\"\n",
    "    elif PMI == 0.00:\n",
    "        return \"Linear\"\n",
    "    elif 0.055 <= PMI <= 0.200:\n",
    "        return \"Mostly Linear\"\n",
    "    elif 0.205 <= PMI <= 0.295:\n",
    "        return \"Linear Convex\"\n",
    "    elif PMI == 0.500:\n",
    "        return \"Convex-Concave\"\n",
    "    elif 0.570 <= PMI <= 0.950:\n",
    "        return \"Mostly Convex\"\n",
    "    elif PMI == 1.00:\n",
    "        return \"Convex\"\n",
    "    else:\n",
    "        return \"Combination\""
   ]
  },
  {
   "cell_type": "code",
   "execution_count": 61,
   "id": "312c87a4",
   "metadata": {},
   "outputs": [
    {
     "data": {
      "text/plain": [
       "'Concave-Convex'"
      ]
     },
     "execution_count": 61,
     "metadata": {},
     "output_type": "execute_result"
    }
   ],
   "source": [
    "profile_morphotype(PMI)"
   ]
  },
  {
   "cell_type": "code",
   "execution_count": null,
   "id": "b794a8ad",
   "metadata": {},
   "outputs": [],
   "source": []
  }
 ],
 "metadata": {
  "kernelspec": {
   "display_name": "Python 3 (ipykernel)",
   "language": "python",
   "name": "python3"
  },
  "language_info": {
   "codemirror_mode": {
    "name": "ipython",
    "version": 3
   },
   "file_extension": ".py",
   "mimetype": "text/x-python",
   "name": "python",
   "nbconvert_exporter": "python",
   "pygments_lexer": "ipython3",
   "version": "3.9.12"
  }
 },
 "nbformat": 4,
 "nbformat_minor": 5
}
